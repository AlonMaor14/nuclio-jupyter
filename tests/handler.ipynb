{
 "cells": [
  {
   "cell_type": "code",
   "execution_count": 1,
   "metadata": {},
   "outputs": [],
   "source": [
    "import nuclio"
   ]
  },
  {
   "cell_type": "code",
   "execution_count": 3,
   "metadata": {},
   "outputs": [
    {
     "name": "stdout",
     "output_type": "stream",
     "text": [
      "%nuclio: setting 'USER' environment variable\n",
      "%nuclio: setting 'PASSWORD' environment variable\n"
     ]
    }
   ],
   "source": [
    "%%nuclio env\n",
    "USER=iguazio\n",
    "PASSWORD=t0ps3cr3t"
   ]
  },
  {
   "cell_type": "code",
   "execution_count": 4,
   "metadata": {},
   "outputs": [
    {
     "name": "stdout",
     "output_type": "stream",
     "text": [
      "1\n"
     ]
    }
   ],
   "source": [
    "print(1)"
   ]
  },
  {
   "cell_type": "code",
   "execution_count": 5,
   "metadata": {},
   "outputs": [
    {
     "name": "stdout",
     "output_type": "stream",
     "text": [
      "%nuclio: setting 'API_KEY' environment variable\n"
     ]
    }
   ],
   "source": [
    "%nuclio env API_KEY=1234"
   ]
  },
  {
   "cell_type": "code",
   "execution_count": 3,
   "metadata": {},
   "outputs": [],
   "source": [
    "# %nuclio env_file _t/env.txt"
   ]
  },
  {
   "cell_type": "code",
   "execution_count": 7,
   "metadata": {},
   "outputs": [
    {
     "name": "stdout",
     "output_type": "stream",
     "text": [
      "bazinga.py  ex.html  nuclio_test.ipynb\t__pycache__\r\n",
      "env.txt     ex.py    nuclio_test.zip\tt.py\r\n"
     ]
    }
   ],
   "source": [
    "%nuclio cmd ls"
   ]
  },
  {
   "cell_type": "code",
   "execution_count": 8,
   "metadata": {},
   "outputs": [],
   "source": [
    "%nuclio cmd --config-only apt-get install -y libyaml-dev"
   ]
  },
  {
   "cell_type": "code",
   "execution_count": 9,
   "metadata": {},
   "outputs": [
    {
     "name": "stdout",
     "output_type": "stream",
     "text": [
      "cache  empty  lib    lock  mail      opt  spool\n",
      "db     games  local  log   net-snmp  run  tmp\n",
      "PING google.com (216.58.207.46) 56(84) bytes of data.\n",
      "64 bytes from fra16s24-in-f14.1e100.net (216.58.207.46): icmp_seq=1 ttl=53 time=77.6 ms\n",
      "64 bytes from fra16s24-in-f14.1e100.net (216.58.207.46): icmp_seq=2 ttl=53 time=78.2 ms\n",
      "64 bytes from fra16s24-in-f14.1e100.net (216.58.207.46): icmp_seq=3 ttl=53 time=77.8 ms\n",
      "\n",
      "--- google.com ping statistics ---\n",
      "3 packets transmitted, 3 received, 0% packet loss, time 5ms\n",
      "rtt min/avg/max/mdev = 77.633/77.867/78.201/0.332 ms\n"
     ]
    }
   ],
   "source": [
    "%%nuclio cmd\n",
    "ls /var\n",
    "ping -c 3 google.com"
   ]
  },
  {
   "cell_type": "code",
   "execution_count": 12,
   "metadata": {},
   "outputs": [],
   "source": [
    "%%nuclio ignore\n",
    "evt = nuclio.Event(body='Nuclio')\n",
    "ctx = nuclio.Context()"
   ]
  },
  {
   "cell_type": "code",
   "execution_count": null,
   "metadata": {},
   "outputs": [],
   "source": []
  },
  {
   "cell_type": "code",
   "execution_count": 13,
   "metadata": {},
   "outputs": [
    {
     "data": {
      "text/plain": [
       "'Hello Nuclio'"
      ]
     },
     "execution_count": 13,
     "metadata": {},
     "output_type": "execute_result"
    }
   ],
   "source": [
    "%nuclio handler\n",
    "\n",
    "msg = 'Hello ' + evt.body\n",
    "msg # nuclio: return"
   ]
  },
  {
   "cell_type": "code",
   "execution_count": 4,
   "metadata": {},
   "outputs": [],
   "source": [
    "import nuclio"
   ]
  },
  {
   "cell_type": "code",
   "execution_count": 5,
   "metadata": {},
   "outputs": [
    {
     "name": "stdout",
     "output_type": "stream",
     "text": [
      "%nuclio: handler exported to /tmp/ex7\n"
     ]
    }
   ],
   "source": [
    "%nuclio export --output-dir /tmp/ex7"
   ]
  },
  {
   "cell_type": "code",
   "execution_count": 3,
   "metadata": {},
   "outputs": [
    {
     "data": {
      "text/plain": [
       "'/home/miki/backup/nuclio-jupyter'"
      ]
     },
     "execution_count": 3,
     "metadata": {},
     "output_type": "execute_result"
    }
   ],
   "source": [
    "%pwd"
   ]
  },
  {
   "cell_type": "code",
   "execution_count": null,
   "metadata": {},
   "outputs": [],
   "source": []
  }
 ],
 "metadata": {
  "kernelspec": {
   "display_name": "Python 3",
   "language": "python",
   "name": "python3"
  },
  "language_info": {
   "codemirror_mode": {
    "name": "ipython",
    "version": 3
   },
   "file_extension": ".py",
   "mimetype": "text/x-python",
   "name": "python",
   "nbconvert_exporter": "python",
   "pygments_lexer": "ipython3",
   "version": "3.7.1"
  }
 },
 "nbformat": 4,
 "nbformat_minor": 2
}
