{
 "cells": [
  {
   "cell_type": "markdown",
   "metadata": {},
   "source": [
    "# Example of creating and running a nuclio bash function"
   ]
  },
  {
   "cell_type": "code",
   "execution_count": 6,
   "metadata": {},
   "outputs": [],
   "source": [
    "code = '''\n",
    "echo \"good morning\"\n",
    "echo $SOME_ENV\n",
    "'''"
   ]
  },
  {
   "cell_type": "code",
   "execution_count": 7,
   "metadata": {},
   "outputs": [],
   "source": [
    "import requests\n",
    "import nuclio"
   ]
  },
  {
   "cell_type": "code",
   "execution_count": 10,
   "metadata": {},
   "outputs": [
    {
     "name": "stdout",
     "output_type": "stream",
     "text": [
      "[nuclio.deploy] 2019-04-08 14:14:55,560 (info) Building processor image\n",
      "[nuclio.deploy] 2019-04-08 14:15:01,605 (info) Pushing image\n",
      "[nuclio.deploy] 2019-04-08 14:15:05,641 (info) Build complete\n",
      "[nuclio.deploy] 2019-04-08 14:15:09,676 (info) Function deploy complete\n",
      "[nuclio.deploy] 2019-04-08 14:15:09,680 done updating mysh, function address: 3.120.185.238:32196\n"
     ]
    }
   ],
   "source": [
    "spec = nuclio.ConfigSpec(env={'SOME_ENV':'env text'}, \n",
    "                         cmd=['apk --update --no-cache add imagemagick'])\n",
    "\n",
    "addr = nuclio.deploy_code(code, lang='.sh', name='mysh', project='demo', spec=spec)"
   ]
  },
  {
   "cell_type": "code",
   "execution_count": 16,
   "metadata": {},
   "outputs": [
    {
     "name": "stdout",
     "output_type": "stream",
     "text": [
      "good morning\n",
      "env text\n",
      "\n"
     ]
    }
   ],
   "source": [
    "# invoke the generated function \n",
    "resp = requests.get('http://' + addr)\n",
    "print(resp.text)"
   ]
  }
 ],
 "metadata": {
  "kernelspec": {
   "display_name": "Python 3",
   "language": "python",
   "name": "python3"
  },
  "language_info": {
   "codemirror_mode": {
    "name": "ipython",
    "version": 3
   },
   "file_extension": ".py",
   "mimetype": "text/x-python",
   "name": "python",
   "nbconvert_exporter": "python",
   "pygments_lexer": "ipython3",
   "version": "3.6.8"
  }
 },
 "nbformat": 4,
 "nbformat_minor": 2
}
